{
  "nbformat": 4,
  "nbformat_minor": 0,
  "metadata": {
    "colab": {
      "name": "Bayesian_networks16.413.ipynb",
      "provenance": [],
      "collapsed_sections": [],
      "toc_visible": true
    },
    "kernelspec": {
      "name": "python3",
      "display_name": "Python 3"
    }
  },
  "cells": [
    {
      "cell_type": "markdown",
      "metadata": {
        "id": "vXtOfT6TJ46c"
      },
      "source": [
        "# Attack Estimation : Bayesian Networks\n"
      ]
    },
    {
      "cell_type": "markdown",
      "metadata": {
        "id": "j1UORhhsQzO3"
      },
      "source": [
        "# Overview"
      ]
    },
    {
      "cell_type": "markdown",
      "metadata": {
        "id": "mgtlSAHfJ_oE"
      },
      "source": [
        "This notebook will introduce you to Bayesian Networks and how to perform inference on them using Bucket Elimination.\n",
        "\n",
        "After a motivation of why Bayesian Networks are important and what they can be used for, we will introduce you to the task you were given: Defending your galactic empire using Bayesian Networks.\n",
        "\n",
        "After covering some necessary math background, we will go over the key insight of the algorithm. Then we will explain the algorithm in three ways: First with intuition, then with pseudocode and lastly with formal mathematics. \n",
        "\n",
        "This will be followed by an explanation of how to use our code and some examples will follow. \n",
        "The main learning outcome is to \n",
        "* understand Bayesian Networks and Bucket Elimination\n",
        "* be able to run the Bucket Elimination algorithm\n",
        "* have the resources to implement the algorithm at a later date"
      ]
    },
    {
      "cell_type": "markdown",
      "metadata": {
        "id": "AJ8QakQCoXQW"
      },
      "source": [
        "## Motivation"
      ]
    },
    {
      "cell_type": "markdown",
      "metadata": {
        "id": "d-WIfZ5XNYaa"
      },
      "source": [
        "Why are Bayesian Networks and why should we be interested in them?\n",
        "\n",
        "Bayesian probability estimates are a powerful tool for inferring a probability distribution for a hidden state based on observations.  However, for large state spaces with many random variables, each of which may depend on some subset of the other variables, we would like to impose some kind of structure on the probabilistic model that makes the conditional independence relations between variables obvious. The Bayesian Network is a network structure that does exactly this.  \n",
        "\n",
        "For example you can impose a complicated structure like below, where the presence of rain affects grass growth, the mood of the cat and whether umbrellas are used. The presence of rain is itself affected by atmospheric pressure and the season. Conditional probability tables capture the  probabilities of the children nodes (e.g. rain) taking certain values conditioned on the values of their parent nodes (season and atmospheric pressure). \n",
        "\n",
        "Given such a graph of relationships, conditional probabilities and the observed values of some nodes, the aim of this notebook is to infer the states of other nodes.  "
      ]
    },
    {
      "cell_type": "markdown",
      "metadata": {
        "id": "jw-Yz-zTNEmJ"
      },
      "source": [
        "![](https://drive.google.com/uc?export=view&id=1HrJKzxjcjlig-yTGmNut5DtXl3Q_UXfI)"
      ]
    },
    {
      "cell_type": "markdown",
      "metadata": {
        "id": "TI-Eij4vQsMZ"
      },
      "source": [
        "## Problem: Attack Estimation"
      ]
    },
    {
      "cell_type": "markdown",
      "metadata": {
        "id": "U3ndFTedgJu5"
      },
      "source": [
        "We will be concentrating on the specific example of attack estimation. \n",
        "\n",
        "Imagine the following scenario. You are the chief scientist of the Generic Space Empire under attack by rebels."
      ]
    },
    {
      "cell_type": "markdown",
      "metadata": {
        "id": "bai-K4CHYudS"
      },
      "source": [
        "![](https://drive.google.com/uc?export=view&id=1viiwvQpyBrxAfeLBOm8SSWQ3M5zM30A0)"
      ]
    },
    {
      "cell_type": "markdown",
      "metadata": {
        "id": "Ev5hd2QiRYbN"
      },
      "source": [
        "The Underdog Rebel attackers can perform various attacks, which will damage subsystems of the Generic Space Empire's space station, each of which may contain one or more precious workstations.  The engineers on the space station can use diagnosis droids to observe which workstations are damaged.  Given a set of observations, we wish to infer the probability distribution over what attacks took place.  "
      ]
    },
    {
      "cell_type": "markdown",
      "metadata": {
        "id": "ltEcyUIwTbnx"
      },
      "source": [
        "There are two specific objects that we want to compute:\n",
        "* Maximum A Posteriori (MAP) Hypothesis: Determine the most likely configuration of attack variables given the value of the observations and summing (marginalizing) over other nuissance nodes. \n",
        "* Posterior Distribution over attacks (belief updating): Determine the posterior distribution for a single node given observations in other nodes marginalized over the value of other nodes.\n",
        "\n",
        "In order to rise to the task of saving your galactic empire, you first have to read up on Bayesian Networks. \n"
      ]
    },
    {
      "cell_type": "markdown",
      "metadata": {
        "id": "marVBeeR19XX"
      },
      "source": [
        "![](https://drive.google.com/uc?export=view&id=1hszXxSLcK1R2rwBYH75XPbDmiT0meKoX)"
      ]
    },
    {
      "cell_type": "markdown",
      "metadata": {
        "id": "zG1_euITpltw"
      },
      "source": [
        "Let's first look at what our algorithm is supposed to achieve from a black box perspective. After gaining this high level understanding, we will look into how the bucket elimination algorithm can solve this problem. \n",
        "\n",
        "\n",
        "To see the application of Bayesian Networks, let's import our implementation of a BayesNet and helper classes. You can either [load the local file](https://stackoverflow.com/questions/48905127/importing-py-files-in-google-colab/48919022) bayesnet.py. Otherwise you can add the file to your google drive and mount the drive using the following cell. "
      ]
    },
    {
      "cell_type": "code",
      "metadata": {
        "colab": {
          "base_uri": "https://localhost:8080/"
        },
        "id": "l0ihQXDoD_P6",
        "outputId": "9a679dc2-38cc-4f36-85f2-996d911eb9ff"
      },
      "source": [
        "from google.colab import drive\n",
        "drive.mount('/content/drive')"
      ],
      "execution_count": 1,
      "outputs": [
        {
          "output_type": "stream",
          "text": [
            "Mounted at /content/drive\n"
          ],
          "name": "stdout"
        }
      ]
    },
    {
      "cell_type": "code",
      "metadata": {
        "id": "z70uZiXsExrj"
      },
      "source": [
        "from bayesnet import *"
      ],
      "execution_count": 1,
      "outputs": []
    },
    {
      "cell_type": "markdown",
      "metadata": {
        "id": "EaCs8BXmrR1l"
      },
      "source": [
        "Let's first generate an example problem. Here we have three attack nodes that have binary values, that effect some subsystems. These in turn then affect some worker nodes. Exactly how this problem is generated will be explained in the implementation section."
      ]
    },
    {
      "cell_type": "code",
      "metadata": {
        "colab": {
          "base_uri": "https://localhost:8080/",
          "height": 319
        },
        "id": "2OBufFgskgFN",
        "outputId": "39158eb8-5738-44e8-ab49-f81b04c93259"
      },
      "source": [
        "example_nodes, pos = generate_problem()\n",
        "\n",
        "model = BayesNet(\"Attack Estimation on Example Network\")\n",
        "model.add_nodes(example_nodes)\n",
        "model.infer_edges()\n",
        "model.plot_graph(pos=pos)"
      ],
      "execution_count": 2,
      "outputs": [
        {
          "output_type": "display_data",
          "data": {
            "image/png": "[encoded data removed]",
            "text/plain": [
              "<Figure size 432x288 with 1 Axes>"
            ]
          },
          "metadata": {
            "tags": []
          }
        }
      ]
    },
    {
      "cell_type": "markdown",
      "metadata": {
        "id": "ysfijUzkrn5Q"
      },
      "source": [
        "Given this structure, let's note the observations and decide a list of nodes over which we want to compute a Maximum A Posteriori Estimation. An observation is an assignment of a value to any node. Note, that while the most likely configuration will be computed for all interest nodes, the posterior will only be estimated on the first node in the list of interest nodes.\n"
      ]
    },
    {
      "cell_type": "code",
      "metadata": {
        "colab": {
          "base_uri": "https://localhost:8080/"
        },
        "id": "3wfyGkbMmvFy",
        "outputId": "36852dfa-b5cf-4b7d-9e37-a17e4d20d1d5"
      },
      "source": [
        "observations = {\"ws1\": 1, \"ws2\": 0, \"ws3\": 0, \"ws4\": 1}\n",
        "interest_nodes = [\"attack1\", \"attack2\", \"attack3\"]\n",
        "ordering = [\"attack1\", \"attack2\", \"attack3\", \"subsys1\", \"subsys2\", \"ws1\", \"ws2\", \"ws3\", \"ws4\"]\n",
        "\n",
        "res_BEL, res_MAP = model.bucket_elim(observations, interest_nodes, ordering, DEBUG=False)\n",
        "print(\"Most likely configuration:\", res_MAP)\n",
        "print(\"Posterior distribution for node {}: P(0)={}, P(1) = {} \".format(interest_nodes[0], res_BEL[interest_nodes[0]][0], res_BEL[interest_nodes[0]][1] ))"
      ],
      "execution_count": 3,
      "outputs": [
        {
          "output_type": "stream",
          "text": [
            "Running bucket_backward\n",
            "Running bucket_forward\n",
            "Most likely configuration: {'attack1': 0, 'attack2': 1, 'attack3': 0}\n",
            "Posterior distribution for node attack1: P(0)=0.7805236114509421, P(1) = 0.21947638854905804 \n"
          ],
          "name": "stdout"
        }
      ]
    },
    {
      "cell_type": "markdown",
      "metadata": {
        "id": "RQdO1uYg2gT7"
      },
      "source": [
        "Here you can see that the probability that attack1 happened is 22%. However, it looks like the rebels are performing attack2. This is where we should strength our defenses next time. If we could run this algorithm on different problems, we would know what the rebels are up to every time."
      ]
    },
    {
      "cell_type": "markdown",
      "metadata": {
        "id": "sgAcPojTtAGc"
      },
      "source": [
        "Now we know our goal: To use bucket elimination to compute MAP hypothesis and posterior distributions given observations. \n",
        "\n",
        "While we will come back to implementation details in the implementation section, the next section will give us the necessary math background to understand bucket elimination."
      ]
    },
    {
      "cell_type": "markdown",
      "metadata": {
        "id": "3kJ81vgcofOG"
      },
      "source": [
        "## Math Background"
      ]
    },
    {
      "cell_type": "markdown",
      "metadata": {
        "id": "E6ur3vBvFpbX"
      },
      "source": [
        "Let's brush up on some necessary mathematics."
      ]
    },
    {
      "cell_type": "markdown",
      "metadata": {
        "id": "AvMUO_HQTJ-h"
      },
      "source": [
        "Let us represent our sample space using discrete random variables $X_i$, which have domains $D_i = \\{x_1, \\dots, x_m\\}$ and probability distributions $\\Pr(X_i) : D_i \\rightarrow [0, 1]$.\n",
        "\n",
        "If two random variables $A$ and $B$ are independent (denoted $A \\perp B$), we have:\n",
        "$$\n",
        "\\Pr(A | B) = \\Pr(A)\n",
        "$$\n",
        "and, as a result,\n",
        "$$\n",
        "\\Pr(A, B) = \\Pr(A | B) \\Pr(B) = \\Pr(A) \\Pr(B)\n",
        "$$\n",
        "If random variables $A$ and $B$ are independent conditional on $C$:\n",
        "$$\n",
        "\\Pr(A | B, C) = \\Pr(A | C)\n",
        "$$\n",
        "\n",
        "Since all our random variables are discrete, we can express the relation $\\Pr(A | B)$ using a conditional probability table (CPT) that gives the probability of each possible value of $A$ given a value of $B$.  \n",
        "\n",
        "The three main actions we want to perform on probability distributions are:\n",
        "* Joining (also known as Factoring or Combining): given $X_1 \\perp X_2$,\n",
        "$$\n",
        "\\Pr(X_1, X_2) = \\Pr(X_1) \\Pr(X_2)\n",
        "$$\n",
        "* Conditioning:\n",
        "$$\n",
        "\\Pr(X_2, X_3 | X_1 = x_1) = \\frac{\\Pr(x_1, X_2, X_3)}{\\sum_{x_2, x_3} \\Pr(x_1, x_2, x_3)}\n",
        "$$\n",
        "* Marginalization:\n",
        "$$\n",
        "\\Pr(X_2, X_3) = \\sum_{x_1} \\Pr(x_1, X_2, X_3)\n",
        "$$\n",
        "\n",
        "A Bayesian network is a directed acyclic graph: a graph where edges have associated directions (thus connecting ordered pairs of nodes) and there are no cycles (in other words, from any node, there is no way to reach that node again by traversing edges).  The nodes $X_i$ are random variables, the edges $X_i \\rightarrow X_j$ denote the dependence of $X_j$ on its parent $X_i$, and each node $X$ is associated with a CPT describing $\\Pr(X | Parents(X))$.  Each node in a Bayes net must be conditionally independent, conditioned on its parents, of all other nodes in the network that are not descended from it; a node is always dependent on its parents and children.  Due to this structure, we can use edges $X_i \\rightarrow X_j$ to model causal relationships.  "
      ]
    },
    {
      "cell_type": "markdown",
      "metadata": {
        "id": "5tDO3U9QojfA"
      },
      "source": [
        "## Bucket Elimination: Key Insight"
      ]
    },
    {
      "cell_type": "markdown",
      "metadata": {
        "id": "BMZ0bWvy5wPK"
      },
      "source": [
        "Bucket elimination is a method that can be used for probabilistic-inference tasks like belief updating and finding the MAP hypothesis on a Bayes net.  Its inputs are the network, which contains conditional probability tables, a set of variable observations and an ordering of variables. In this section we will understand the main insight behind Bucket Elimination by considering the specific example graph below. \n",
        "\n",
        "Imagine you want to compute the posterior for A, given that you have observed that the value of the node G is g=1. In theory we could compute the joint probability $\\Pr(g, f, d, c, b, a)$ for g=1 and all other values of the other variables. We could then sort all of these probabilities and sum them up for the different values of A as follows:\n",
        "\n",
        "\\begin{align*}\n",
        "\\Pr(a, g = 1) &= \\sum_{c, b, f, d, g=1}\\Pr(g, f, d, c, b, a) \\\\\n",
        "&= \\sum_{c, b, f, d, g=1}\\Pr(g | f) \\Pr(f | b, c) \\Pr(d | a, b) \\Pr(c | a) \\Pr(b | a) \\Pr(a) \n",
        "\\end{align*}\n",
        "\n",
        "To get an estimate for A's posterior, we could multiply each value of A by its prior and to get a MAP estimate, we would just have to take the maximum value. While this is a valid algorithm, it quickly become prohibitively expensive, as it is exponential in the domains of th variables. We need an algorithm that inteligently uses the structure of the Bayesian Network to get better scaling."
      ]
    },
    {
      "cell_type": "markdown",
      "metadata": {
        "id": "xxoX6k2Z4Pll"
      },
      "source": [
        "![](https://drive.google.com/uc?export=view&id=1sREZcYm8puz11r7nYx5GChmllTlq23AP)"
      ]
    },
    {
      "cell_type": "markdown",
      "metadata": {
        "id": "NaLqj8nWG9ZV"
      },
      "source": [
        "The main insight of the Bucket Elimination algorithm is that the sums don't have to be performed at the end. As each term in the product depends only on some variables, these partial sums can be computed first, yielding significant speed gains. \n",
        "\n",
        "The above network for example imposes a structure $\\Pr(g, f, d, c, b, a) = \\Pr(g | f) \\Pr(f | c, b) \\Pr(d | b, a) \\Pr(b | a) \\Pr(c | a) \\Pr(a)$. Hence, the sum can be broken up as follows:\n",
        "\n",
        "\\begin{align*}\n",
        "\\Pr(a, g = 1) &= \\sum_{c, b, f, d, g=1}\\Pr(g | f) \\Pr(f | b, c) \\Pr(d | a, b) \\Pr(c | a) \\Pr(b | a) \\Pr(a) \\\\\n",
        "&= \\Pr(a) \\sum_c \\Pr(c | a) \\sum_b \\Pr(b | a) \\sum_f \\Pr(f | b, c) \\sum_d \\Pr(d | b, a) \\sum_{g=1} \\Pr(g | f)\n",
        "\\end{align*}\n",
        "\n"
      ]
    },
    {
      "cell_type": "markdown",
      "metadata": {
        "id": "lkQbkQY0BDqj"
      },
      "source": [
        "These sums can then be computed mechanically from right to left. Each summation produces a function in the variables that were not eliminated by the sum, which we denote by $\\lambda$ (for example, $\\lambda_G(f) = \\sum_{g=1} \\Pr(g | f)$):\n",
        "\\begin{align*}\n",
        "&= \\Pr(a) \\sum_c \\Pr(c | a) \\sum_b \\Pr(b | a) \\sum_f \\Pr(f | b, c) \\lambda_G(f) \\sum_d \\Pr(d | b, a) \\\\\n",
        "&= \\Pr(a) \\sum_c \\Pr(c | a) \\sum_b \\Pr(b | a) \\lambda_D(a, b) \\sum_f \\Pr(f | b, c) \\lambda_G(f) \\\\\n",
        "&= \\Pr(a) \\sum_c \\Pr(c | a) \\sum_b \\Pr(b | a) \\lambda_D(a, b) \\lambda_F(b, c) \\\\\n",
        "&= \\Pr(a) \\sum_c \\Pr(c | a) \\lambda_B(a, c) \\\\\n",
        "&= \\Pr(a) \\lambda_C(a)\n",
        "\\end{align*}\n",
        "\n",
        "\n",
        "The answer to the query $\\Pr(a | g=1)$ can then be given by normalizing the last product. "
      ]
    },
    {
      "cell_type": "markdown",
      "metadata": {
        "id": "v3z4L9UkIaaK"
      },
      "source": [
        "## Bucket Elimination: Intuition"
      ]
    },
    {
      "cell_type": "markdown",
      "metadata": {
        "id": "AZ7eOohRGxX-"
      },
      "source": [
        "Bucket Elimination takes this insight of how to simplify the sums and implements MAP and posterior estimation in code. It does so by keeping track of the levels of the summation using so-called buckets, where each bucket correspons to summation over a single node.  \n",
        "\n",
        "The algorithm iterates over the buckets twice for MAP estimates and once for Posterior estimates: \n",
        "\n",
        "* Backward Pass (for MAP and Posterior): Given an ordering (here $A, C, B, F, D, G$), it iteratively computes the $\\lambda$ functions in the reverse direction. Once only one variable remains, we can read off the posterior estimates. \n",
        "* Forward Pass (for MAP only): To estimate the maximum configuration, the maximum value of the posterior for the variable first in the order is chosen. This is then propagated to the second variable and so on until we have the most likely configuration of the variables of interest. "
      ]
    },
    {
      "cell_type": "markdown",
      "metadata": {
        "id": "OrBGEm7pK-aO"
      },
      "source": [
        "In the forward pass each bucket is treated differently, depending on what we want to do for this variable:\n",
        "* Assignment (Observation): If we have observed a value for this variable, we simply assign it. \n",
        "* Summation (Marginalization): If we have not observed the value and this is not a parameter of interest, we marginalize/sum over all of its possible values. Note that this procedure happens to all unobserved nodes that are not of interest. We can also call these nodes nuissance nodes. Notice that for the Posterior Estimation all but the last node and observation nodes are nuissance nodes.\n",
        "* Maximization (MAP): When we are running the MAP algorithm, all nodes of interest will run in Maximization mode. Here, sums are replaced by maximization to produce the $\\lambda$ functions, but otherwise everything remains the same."
      ]
    },
    {
      "cell_type": "markdown",
      "metadata": {
        "id": "Zo9e9uf34bF0"
      },
      "source": [
        "\n",
        "\n",
        "\n",
        "The buckets for bucket elimination are sorted acording to the particular variable ordering and then filled. Each conditional probability table (CPT), and observation is put into the bucket corresponding to the variable of lowest order that it contains. For our example problem the buckets are initialized as shown on the left below. Intermediate $\\lambda$ functions are computed as shown on the right below. In the forward pass, the resulting $\\lambda$ functions are passed to the bucket corresponding to the next highest variable that is an argument of the $\\lambda$ function.\n",
        "\n",
        "\n",
        "\n",
        " "
      ]
    },
    {
      "cell_type": "markdown",
      "metadata": {
        "id": "yv4DNnpH5IWc"
      },
      "source": [
        "![](https://drive.google.com/uc?export=view&id=13JViFl_rVEsZBEomDs2UAINrXK-kHQ6P)"
      ]
    },
    {
      "cell_type": "markdown",
      "metadata": {
        "id": "fFpED7oMBOe8"
      },
      "source": [
        "To process $bucket_G$ in our specific example, we sum over all values of $g$ to marginalize out $g$ -- in this case, we have observed $g = 1$, so this summation is over a single value.  This computes the function $\\lambda_G(f) = \\sum_{g=1} \\Pr(g | f)$, which is placed in $bucket_F$.  Similarly, processing $bucket_D$ yields $\\lambda_D(b, a) = \\sum_d \\Pr(d | b, a)$, which is placed in $bucket_B$.  This continues until we reach bucket $A$ and can compute $\\Pr(a | g=1) = \\alpha \\Pr(a) \\lambda_C(a)$.  "
      ]
    },
    {
      "cell_type": "markdown",
      "metadata": {
        "id": "wUo47y625bJQ"
      },
      "source": [
        "## Bucket Elimination: Pseudocode"
      ]
    },
    {
      "cell_type": "markdown",
      "metadata": {
        "id": "R252ox9AJ6HC"
      },
      "source": [
        "This section gives a succinct pseudocode explanation of Bucket Elimination. This is especially useful if you wish to implement the algorithm yourself. The algorithm complexity in time and space is dominated by a term quadratic in the domain sizes. "
      ]
    },
    {
      "cell_type": "markdown",
      "metadata": {
        "id": "mv0zP4Hjs47c"
      },
      "source": [
        "Given that $BN$ is a Bayes net, $A$ is a subset of the variables in the Bayes net, $d$ is an ordering of variables in which the variables in $A$ are first, and $e$ is a set of observations, we can find the maximum aposteriori hypothesis (MAP) assignment to the variables in $A$ using the following pseudocode for bucket elimination:\n",
        "\n",
        "* Assign to $bucket_i$ all CPTs whose highest value is $X_i$ and any observations of variable $X_i$\n",
        "* Let $S_1 \\dots S_j$ be the subset of variables in a bucket on which CPTs are defined.\n",
        "* Backward pass: for $p = n$ down to 1,\n",
        "  * for all the CPTs $h_1, h_2, \\dots, h_j \\in bucket_p$,\n",
        "    * if $bucket_p$ contains the observation $X_p = x_p$, assign $X_p = x_p$ to each $h_i$ and put the resulting CPTs in lower buckets as appropriate\n",
        "    * otherwise:\n",
        "      * if $X_p$ is not in A and $bucket_p$ contains new CPTs, marginalize out $X_p$:\n",
        "        * let $h_p = \\sum_{X_p}{\\prod_{i=1}^{j} h_i}$\n",
        "        * let $U_p = \\bigcup_{i=1}^{j}{S_i}  - $ \\{ $X_p$ \\} \n",
        "      * otherwise $(X_p \\in A)$, maximize over $X_p$:\n",
        "        * let $h_p = \\max_{X_p}\\prod_{i=1}^{j}{h_i}$ \n",
        "        * let $a^0_p = \\arg \\max_{X_p}{h_p}$\n",
        "      * Then add $h_p$ to the bucket of the largest-index variable in $U_p$. \n",
        "* Forward pass: Assign values in the ordering $d = A_1,\\dots,A_k$, using the information recorded in each bucket.\n",
        "\n",
        "Bucket elimination can operate in two modes during the backward pass: marginalization mode or maximization mode.  To compute the MAP, we first marginalize out all the variables that aren't in $A$, then maximize over the variables in $A$.  To compute the posterior distribution over a single variable, we proceed in marginalization mode until only the variable of interest remains (and we need to ensure that this variable is first in the ordering), then return the final distribution instead of maximizing over the single remaining variable.  "
      ]
    },
    {
      "cell_type": "markdown",
      "metadata": {
        "id": "C00Ee4tQFJ6L"
      },
      "source": [
        "## Bucket Elimination: Formal"
      ]
    },
    {
      "cell_type": "markdown",
      "metadata": {
        "id": "hqD3SFmoF9A6"
      },
      "source": [
        "A formal version of the bucket elimination procedure follows below for completeness. If you are only interested in its practical application you can safely skip this section. Remember, we have some rebels to defeat. "
      ]
    },
    {
      "cell_type": "markdown",
      "metadata": {
        "id": "3m6kR-QPBUvm"
      },
      "source": [
        "Consider an ordering of the variables $X = (X_1, \\dots, X_n)$, where we want $\\Pr(x_1 | e)$.  Let $\\bar{x}_i = (x_1, \\dots, x_i)$, $\\bar{x}_i^j = (x_i, x_{i+1}, \\dots, x_j)$, $F_i$ be the family of variable $X_i$ ($X_i$ and its parent variables), $pa_i$ be the parents of $X_i$, and $ch_i$ be the children of $X_i$.  We want:\n",
        "$$\n",
        "\\Pr(x_1, e) = \\sum_{x = \\bar{x}_2^n} \\Pr(\\bar{x}_n, e) = \\sum_{\\bar{x}_2^{(n-1)}}\\sum_{x_n} \\prod_i \\Pr(x_i, e | x_{pa_i})\n",
        "$$\n",
        "Separating $X_n$ from the other variables yields:\n",
        "\\begin{align*}\n",
        "&\\sum_{x = \\bar{x}_2^n} \\prod_{X_i \\in X - F_n} \\Pr(x_i, e | x_{pa_i}) \\sum_{x_n} \\Pr(x_n, e | x_{pa_n}) \\prod_{X_i \\in ch_n} \\Pr(x_i, e | x_{pa_i}) \\\\\n",
        "&= \\sum_{x = \\bar{x}_2^n} \\prod_{X_i \\in X - F_n} \\Pr(x_i, e | x_{pa_i}) \\lambda_n(x_{U_n})\n",
        "\\end{align*}\n",
        "where\n",
        "$$\n",
        "\\lambda_n(x_{U_n}) = \\sum_{x_n} \\Pr(x_n, e | x_{pa_n}) \\prod_{X_i \\in ch_n} \\Pr(x_i, e | x_{pa_i})\n",
        "$$\n",
        "and $U_n$ are the variables that appear with $X_n$ in a probability component, including $X_n$ itself.  This continues recursively with $X_{n-1}$.  "
      ]
    },
    {
      "cell_type": "markdown",
      "metadata": {
        "id": "RtVmA2wCfj25"
      },
      "source": [
        "To process each bucket, all the bucket's functions $\\lambda_1 \\dots \\lambda_j$ are multiplied, and the bucket's variable is eliminated by summation, producing\n",
        "\\begin{align*}\n",
        "\\lambda_p &: U_p \\rightarrow R \\\\\n",
        "\\lambda_p &= \\sum_{X_p} \\prod_{i=1}^j \\lambda_i\n",
        "\\end{align*}\n",
        "where $U_p = \\bigcup_i S_i - \\{X_p\\}$ (and $S_i$ is the subset of variables that $\\lambda_i$ is defined over).  This function $\\lambda_p$ is placed in the bucket of the largest-index variable in $U_p$.  Once all the buckets have been processed from last to first, the answer to the query is present in the first bucket.  \n",
        "\n",
        "\n"
      ]
    },
    {
      "cell_type": "markdown",
      "metadata": {
        "id": "bVNQDBDGGuAJ"
      },
      "source": [
        "## Description of implementation\n"
      ]
    },
    {
      "cell_type": "markdown",
      "metadata": {
        "id": "hzKX-dAiRJ2y"
      },
      "source": [
        "In this section we give a short explanation of how we have implemented Bucket Elimination, so you can follow along with the examples in the next section and construct your own. "
      ]
    },
    {
      "cell_type": "markdown",
      "metadata": {
        "id": "t09zNNDWM0Nj"
      },
      "source": [
        "The three classes we use to define the network architecture and conditional probability tables are `Distrib`, `Node`, and `BayesNet`.  \n",
        "\n",
        "`Distrib` is used to store probability distributions.  A prior distribution for a node of name \"node_name\" that has no parents can be defined as:\n",
        "```python\n",
        "Distrib([1/5, 4/5], vars=[\"node_name\"])\n",
        "```\n",
        "Here we have chosen to have a distribution over only two values with probabilities 1/5 and 4/5, respectively. However, you can implement any distribution of a finite number of elements. For simplicity the different values of the variables are not named, but are just refered to by their index. You can use the method Distrib.check_sum1() to see if this is a proper normalized distribution. \n",
        "\n"
      ]
    },
    {
      "cell_type": "markdown",
      "metadata": {
        "id": "cjMUlyJRSjUH"
      },
      "source": [
        "A conditional distribution for a node with parents can be defined as follows:\n",
        "```python\n",
        "Distrib([[[0.9,0.4], [0.5,0.3]], [[0.1,0.6], [0.5,0.7]]], vars=[\"node_name\", \"parent1\", \"parent2\"])\n",
        "```\n",
        "Here the input is assumed to be a 3D matrix in list form, where the indices follow the ordering of the vars (e.g. matrix[1][0][2] has node_name's 1st element, parent1's 0th element and parent2's 2nd element).\n",
        "\n",
        "\n"
      ]
    },
    {
      "cell_type": "markdown",
      "metadata": {
        "id": "C5iwiPi1TvbR"
      },
      "source": [
        "`Node` is used to store the conditional probability table and connectivity information for a single node in the network.  For example:\n",
        "```python\n",
        "Node(distrib, parents=[parent1, parent2], name=\"node_name\")\n",
        "```\n",
        "where `distrib` is a `Distrib` describing the conditional probability distribution for variables `[\"node_name\", \"parent1\", \"parent2\"]` and `parents` is a list of other `Node`s.  "
      ]
    },
    {
      "cell_type": "markdown",
      "metadata": {
        "id": "ieXxxlwyP-Ya"
      },
      "source": [
        "`BayesNet` is the central class that actually performs inference tasks.  It takes as input just its name. `Node` objects have to be added by using `BayesNet.add_nodes()` and then `BayesNet.infer_edges()` run. After the positions of the graph are provided as a dictionary, the graph can be plotted using `BayesNet.plot_graph(pos)`. \n",
        "\n",
        "Bucket elimination can be run using `BayesNet.bucket_elim(observations, interest_nodes, ordering)`, where interest_names and ordering are a list of node name strings, and observations is a dictionary of node name strings as keys and their observed values as values. \n"
      ]
    },
    {
      "cell_type": "markdown",
      "metadata": {
        "id": "KiO0KgOzXgit"
      },
      "source": [
        "## Return to the Attack Estimation Example"
      ]
    },
    {
      "cell_type": "markdown",
      "metadata": {
        "id": "fTAMYGvDVjOn"
      },
      "source": [
        "Now that you understand Bucket Elimination and the classes that our code uses, you are ready to face the invasion of the Underdog Rebel attackers. \n",
        "\n",
        "Remember the scenario. You are the chief scientist of the Generic Space Empire under attack by rebels."
      ]
    },
    {
      "cell_type": "markdown",
      "metadata": {
        "id": "VMgIaQ4Pjbkf"
      },
      "source": [
        "![](https://drive.google.com/uc?export=view&id=1U3dNHUGQttYGdE_yN-1ZjfaNsI1ltnrm)"
      ]
    },
    {
      "cell_type": "markdown",
      "metadata": {
        "id": "aPqVeFOEjk9R"
      },
      "source": [
        "The Underdog Rebel attackers can perform various attacks, which will damage subsystems of the Generic Space Empire's space station, each of which may contain one or more precious workstations.  The engineers on the space station can use diagnosis droids to observe which workstations are damaged.  Given a set of observations, we wish to infer the probability distribution over what attacks took place.  \n",
        "\n",
        "Let us construct the example in full. If you ever face any Bayesian Network graph in the future, you can easily adapt this problem so it suits your needs. But seriously, what could be cooler than fending off Underdog Rebels? "
      ]
    },
    {
      "cell_type": "markdown",
      "metadata": {
        "id": "i5mTnNm7IU8a"
      },
      "source": [
        "In our example, all of our random variables happen to be binary (but our code supports any discrete support): either an attack happened or it didn't, and a subsystem or workstation can be either working or not working.  \n",
        "\n",
        "We have three attacks, which we will give arbitrary priors."
      ]
    },
    {
      "cell_type": "code",
      "metadata": {
        "id": "GuT86xLhXpUN"
      },
      "source": [
        "attack1 = Node(Distrib([4./5, 1./5], vars=[\"attack1\"]), name=\"attack1\")\n",
        "attack2 = Node(Distrib([2./3, 1./3], vars=[\"attack2\"]), name=\"attack2\")\n",
        "attack3 = Node(Distrib([3./4, 1./4], vars=[\"attack3\"]), name=\"attack3\")"
      ],
      "execution_count": 50,
      "outputs": []
    },
    {
      "cell_type": "markdown",
      "metadata": {
        "id": "zpS4D3fhYDez"
      },
      "source": [
        "Next, we create the nodes corresponding to subsystems 1 and 2.  The variable corresponding to subsystem 1's intactness state is causally dependent on attacks 1 and 2; likewise, the subsystem 2 node is causally dependent on attacks 1 and 3.  "
      ]
    },
    {
      "cell_type": "code",
      "metadata": {
        "id": "khhsQPEAYmuc"
      },
      "source": [
        "subsys1_d = Distrib([[[0.1,0.99], [0.5,0.3]], [[0.9,0.01], [0.5,0.7]]],\n",
        "                    vars=[\"subsys1\", \"attack1\", \"attack2\"])\n",
        "subsys1_d.check_sum1()\n",
        "subsys1 = Node(subsys1_d, parents=[attack1, attack2], name=\"subsys1\")\n",
        "\n",
        "subsys2_d = Distrib([[[0.7,0.5], [0.1,0.8]], [[0.3,0.5], [0.9,0.2]]],\n",
        "                    vars=[\"subsys1\", \"attack1\", \"attack3\"])\n",
        "subsys2_d.check_sum1()\n",
        "subsys2 = Node(subsys2_d, parents=[attack1, attack3], name=\"subsys2\")"
      ],
      "execution_count": 55,
      "outputs": []
    },
    {
      "cell_type": "markdown",
      "metadata": {
        "id": "N3nr0M1ZZZy2"
      },
      "source": [
        "Finally we create the nodes corresponding to the four workstations."
      ]
    },
    {
      "cell_type": "code",
      "metadata": {
        "id": "hO3bfkTuZcJZ"
      },
      "source": [
        "ws1_d = Distrib([[0.999], [0.001]], vars=[\"ws1\", \"subsys1\"])\n",
        "ws1_d.check_sum1()\n",
        "ws1 = Node(ws1_d, parents=[subsys1], name=\"ws1\")\n",
        "\n",
        "ws2_d = Distrib([[[0.9,0.8], [0.5,0.3]], [[0.1,0.2], [0.5,0.7]]],\n",
        "                vars=[\"ws2\", \"subsys1\", \"subsys2\"])\n",
        "ws2_d.check_sum1()\n",
        "ws2 = Node(ws2_d, parents=[subsys1, subsys2], name=\"ws2\")\n",
        "\n",
        "ws3_d = Distrib([[[[0.1,0.99], [0.5,0.3]], [[0.7,0.5], [0.1,0.2]]],\n",
        "                 [[[0.9,0.01], [0.5,0.7]], [[0.3,0.5], [0.9,0.8]]]],\n",
        "                vars=[\"ws3\", \"subsys1\", \"attack2\", \"subsys2\"])\n",
        "ws3_d.check_sum1()\n",
        "ws3 = Node(ws3_d, parents=[subsys1, attack2, subsys2], name=\"ws3\")\n",
        "\n",
        "ws4_d = Distrib([[0.3], [0.7]], vars=[\"ws4\", \"subsys2\"])\n",
        "ws4_d.check_sum1()\n",
        "ws4 = Node(ws4_d, parents=[subsys2], name=\"ws4\")"
      ],
      "execution_count": 56,
      "outputs": []
    },
    {
      "cell_type": "markdown",
      "metadata": {
        "id": "7EykFdavZfmu"
      },
      "source": [
        "Now that all of our nodes have been created, we can assemble the graph."
      ]
    },
    {
      "cell_type": "code",
      "metadata": {
        "colab": {
          "base_uri": "https://localhost:8080/",
          "height": 319
        },
        "id": "iPobZmssZopN",
        "outputId": "bcb0b906-b0c7-4d23-efa6-28c72b05ba86"
      },
      "source": [
        "model = BayesNet(\"Attack Estimation on Example Network\")\n",
        "model.add_nodes([attack1, attack2, attack3, subsys1, subsys2, ws1, ws2, ws3, ws4])\n",
        "\n",
        "# Plot the network\n",
        "pos = {\"attack1\": [-1, 1], \"attack2\": [0, 1], \"attack3\": [1, 1],\n",
        "       \"subsys1\": [-2, 0], \"subsys2\": [2, 0],\n",
        "       \"ws1\": [-2, -1], \"ws2\": [-1, -1], \"ws3\": [0, -1], \"ws4\": [2, -1]}\n",
        "model.infer_edges()\n",
        "model.plot_graph(pos=pos)"
      ],
      "execution_count": 57,
      "outputs": [
        {
          "output_type": "display_data",
          "data": {
            "image/png": "[encoded data removed]",
            "text/plain": [
              "<Figure size 432x288 with 1 Axes>"
            ]
          },
          "metadata": {
            "tags": []
          }
        }
      ]
    },
    {
      "cell_type": "markdown",
      "metadata": {
        "id": "nSWC3YMHXRIR"
      },
      "source": [
        "Note that this is exactly the problem we had outlined at the start of this notebook. This time, you understand what we have done and what our algorithm does. Let's run it. "
      ]
    },
    {
      "cell_type": "markdown",
      "metadata": {
        "id": "Ek8I9K3Fdd5q"
      },
      "source": [
        "From this graph and the given conditional distributions, as well as a set of observations, we can determine the posterior distribution and the most likely configuration of variables of interest:"
      ]
    },
    {
      "cell_type": "code",
      "metadata": {
        "colab": {
          "base_uri": "https://localhost:8080/"
        },
        "id": "PDHvqu4meYTs",
        "outputId": "3787889f-d28f-46d5-8536-8bfb31685d28"
      },
      "source": [
        "observations = {\"ws1\": 1, \"ws2\": 0, \"ws3\": 0, \"ws4\": 1}\n",
        "interest_nodes = [\"attack1\", \"attack2\", \"attack3\"]\n",
        "ordering = [\"attack1\", \"attack2\", \"attack3\", \"subsys1\", \"subsys2\", \"ws1\", \"ws2\", \"ws3\", \"ws4\"]\n",
        "\n",
        "res_BEL, res_MAP = model.bucket_elim(observations, interest_nodes, ordering)\n",
        "print(\"Most likely configuration:\", res_MAP)\n",
        "print(\"Posterior distribution for node {}: P(0)={}, P(1) = {} \".format(interest_nodes[0], res_BEL[interest_nodes[0]][0], res_BEL[interest_nodes[0]][1] ))"
      ],
      "execution_count": 5,
      "outputs": [
        {
          "output_type": "stream",
          "text": [
            "Running bucket_backward\n",
            "Running bucket_forward\n",
            "Most likely configuration: {'attack1': 0, 'attack2': 1, 'attack3': 0}\n",
            "Posterior distribution for node attack1: P(0)=0.7805236114509421, P(1) = 0.21947638854905804 \n"
          ],
          "name": "stdout"
        }
      ]
    },
    {
      "cell_type": "markdown",
      "metadata": {
        "id": "dfFxwjq-XkHh"
      },
      "source": [
        "Great job, you did it. Long live the empire! You have the best estimate of where exactly the Rebels attacked (attack2). You have proven yourself to be a great chief scientist and shall hopefully not be crushed by the empire. "
      ]
    },
    {
      "cell_type": "markdown",
      "metadata": {
        "id": "zdcKeYp9ZT4e"
      },
      "source": [
        "If you want, you can read a little about about how bucket ordering can effect your performance... Or you can sit back, relax and bask in the glory of the empire. "
      ]
    },
    {
      "cell_type": "markdown",
      "metadata": {
        "id": "e2ousrVkX4GQ"
      },
      "source": [
        "\n",
        "\n",
        "\n",
        "![](https://drive.google.com/uc?export=view&id=1oPtbQnDQkTka-Y7cau6VehACsBxoKPUy)"
      ]
    },
    {
      "cell_type": "markdown",
      "metadata": {
        "id": "XpwEfsoz6qN0"
      },
      "source": [
        "## Optional: Variable Ordering\n"
      ]
    },
    {
      "cell_type": "markdown",
      "metadata": {
        "id": "tfH2KdD_aI07"
      },
      "source": [
        "This is an optional discussion of variable ordering in Bucket Elimination. "
      ]
    },
    {
      "cell_type": "markdown",
      "metadata": {
        "id": "I3RNs9qY6sFp"
      },
      "source": [
        "Variable ordering in an input into the Bucket Elimination algorithm that can affect practical performance significantly and is non-trivial. In fact, the complexity of Posterior estimation is (time and space)exponential in the induced width w\u0003(d) of the network's ordered moral graph.\n",
        "\n",
        "There are a few principled ways of tackling this issue, but they are beyond the scope of the notebook. Note, however, that the nodes of interest should come first in the ordering.\n",
        "\n",
        "Consider again our example from the earlier section. If we use a variable ordering consistent with the topological structure of the graph (if $B$ descends from $A$, $B$ comes after $A$ in the variable ordering, for all variables $A$ and $B$), we can skip some buckets that will degenerate to the constant 1.  We skip buckets if, during processing, the bucket contains no evidence variable and no newly computed function.  This is because a topological ordering will initially give to each bucket at most one function $\\Pr(X | pa(X))$, and without any evidence or new functions, summing over this function for all values of $x$ yields 1.  \n",
        "\n",
        "\n"
      ]
    },
    {
      "cell_type": "markdown",
      "metadata": {
        "id": "zu7Y2C3Da23g"
      },
      "source": [
        "![](https://drive.google.com/uc?export=view&id=1sREZcYm8puz11r7nYx5GChmllTlq23AP)"
      ]
    },
    {
      "cell_type": "markdown",
      "metadata": {
        "id": "yuY6_P8YbDo2"
      },
      "source": [
        "For our original ordering $A, C, B, F, D, G$ the bucket initialization looks like this:\n",
        "\\begin{align*}\n",
        "bucket_G &= \\Pr(g | f), g = 1 \\\\\n",
        "bucket_D &= \\Pr(d | b, a) \\\\\n",
        "bucket_F &= \\Pr(f | b, c) \\\\\n",
        "bucket_B &= \\Pr(b | a) \\\\\n",
        "bucket_C &= \\Pr(c | a) \\\\\n",
        "bucket_A &= \\Pr(a) \\\\\n",
        "\\end{align*}"
      ]
    },
    {
      "cell_type": "markdown",
      "metadata": {
        "id": "A7TxsoUwIwq8"
      },
      "source": [
        "If we use an ordering of $A, F, D, C, B, G$, however, we get the following buckets:\n",
        "\\begin{align*}\n",
        "bucket_G &= \\Pr(g | f), g = 1 \\\\\n",
        "bucket_B &= \\Pr(f | b, c), \\Pr(d | a, b), \\Pr(b | a) \\\\\n",
        "bucket_C &= \\Pr(c | a), \\lambda_B(f, c, a, d) \\\\\n",
        "bucket_D &= \\lambda_C(a, f, d) \\\\\n",
        "bucket_F &= \\lambda_D(a, f), \\lambda_G(f) \\\\\n",
        "bucket_A &= \\Pr(a) \\lambda_F(a) \\\\\n",
        "\\end{align*}"
      ]
    },
    {
      "cell_type": "code",
      "metadata": {
        "id": "BNfV_K4pIxUl"
      },
      "source": [
        ""
      ],
      "execution_count": null,
      "outputs": []
    }
  ]
}
